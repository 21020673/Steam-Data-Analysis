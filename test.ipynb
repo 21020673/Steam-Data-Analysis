{
 "cells": [
  {
   "cell_type": "code",
   "execution_count": 3,
   "metadata": {},
   "outputs": [
    {
     "name": "stdout",
     "output_type": "stream",
     "text": [
      "             date                category                                name  \\\n",
      "0      2008-11-01          AMD CPU Speeds                 1.4 Ghz to 1.49 Ghz   \n",
      "1      2008-11-01          AMD CPU Speeds                 1.5 Ghz to 1.69 Ghz   \n",
      "2      2008-11-01          AMD CPU Speeds                 1.7 Ghz to 1.99 Ghz   \n",
      "3      2008-11-01          AMD CPU Speeds                 2.0 Ghz to 2.29 Ghz   \n",
      "4      2008-11-01          AMD CPU Speeds                 2.3 Ghz to 2.69 Ghz   \n",
      "...           ...                     ...                                 ...   \n",
      "56481  2024-01-01  Video Card Description             NVIDIA GeForce RTX 4080   \n",
      "56482  2024-01-01  Video Card Description  NVIDIA GeForce RTX 4080 Laptop GPU   \n",
      "56483  2024-01-01  Video Card Description             NVIDIA GeForce RTX 4090   \n",
      "56484  2024-01-01  Video Card Description                               Other   \n",
      "56485  2024-01-01  Video Card Description                    RDPDD Chained DD   \n",
      "\n",
      "       change  percentage  \n",
      "0     -0.0004      0.0036  \n",
      "1     -0.0025      0.0224  \n",
      "2     -0.0024      0.0714  \n",
      "3     -0.0040      0.1343  \n",
      "4      0.0001      0.0727  \n",
      "...       ...         ...  \n",
      "56481  0.0002      0.0073  \n",
      "56482  0.0015      0.0015  \n",
      "56483  0.0004      0.0091  \n",
      "56484 -0.0030      0.1003  \n",
      "56485 -0.0027      0.0047  \n",
      "\n",
      "[56486 rows x 5 columns]\n"
     ]
    }
   ],
   "source": [
    "import pandas\n",
    "import numpy as np\n",
    "import matplotlib.pyplot as plt\n",
    "# Read in the dataset, and do a little preprocessing,\n",
    "# mostly to set the column datatypes.\n",
    "cols = pandas.read_csv('./shs.csv', nrows=0).columns.tolist()\n",
    "data = pandas.read_csv('./shs.csv', header=None, skiprows=[0])\n",
    "data.columns = cols\n",
    "\n",
    "print(data)"
   ]
  }
 ],
 "metadata": {
  "kernelspec": {
   "display_name": "Python 3",
   "language": "python",
   "name": "python3"
  },
  "language_info": {
   "codemirror_mode": {
    "name": "ipython",
    "version": 3
   },
   "file_extension": ".py",
   "mimetype": "text/x-python",
   "name": "python",
   "nbconvert_exporter": "python",
   "pygments_lexer": "ipython3",
   "version": "3.11.2"
  }
 },
 "nbformat": 4,
 "nbformat_minor": 2
}
